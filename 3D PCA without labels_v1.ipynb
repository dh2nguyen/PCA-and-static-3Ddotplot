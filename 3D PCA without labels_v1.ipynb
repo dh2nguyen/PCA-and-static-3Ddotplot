{
 "cells": [
  {
   "cell_type": "code",
   "execution_count": null,
   "id": "13a29b3d-b702-4cfd-943d-b92b756fe8d4",
   "metadata": {},
   "outputs": [],
   "source": [
    "\n"
   ]
  },
  {
   "cell_type": "code",
   "execution_count": 1,
   "id": "f9849f1c-ecaf-4bc9-bd4e-1f67abc26e6a",
   "metadata": {},
   "outputs": [],
   "source": [
    "import pandas as pd\n",
    "import os\n",
    "import matplotlib.pyplot as plt\n",
    "from sklearn.decomposition import PCA\n",
    "from mpl_toolkits.mplot3d import Axes3D"
   ]
  },
  {
   "cell_type": "code",
   "execution_count": null,
   "id": "056623fd-3639-4276-972f-910a3502d63c",
   "metadata": {},
   "outputs": [],
   "source": [
    "# Set the working directory\n",
    "os.chdir(\"/Users/davidnguyen/Documents/Dave Personal Stuff/TSG Lab/Glycan Code/Position & Composition Index\")  # Paste in the file path\n",
    "\n",
    "# Load the CSV file\n",
    "file_path = \"vectorized_df.csv\"  # Update with the actual file path\n",
    "df = pd.read_csv(file_path)\n",
    "\n",
    "# Fill empty cells with zeros\n",
    "df = df.fillna(0)\n",
    "\n",
    "# Transpose the dataframe so that samples are rows and features are columns\n",
    "df_transposed = df.T\n",
    "\n",
    "# Extract sample names (original column names from CSV)\n",
    "sample_names = df_transposed.index"
   ]
  },
  {
   "cell_type": "code",
   "execution_count": null,
   "id": "86ca7518-2c80-4e67-a032-3f2d4dcced40",
   "metadata": {},
   "outputs": [],
   "source": [
    "# Perform PCA with 3 components\n",
    "pca = PCA(n_components=3)\n",
    "principal_components = pca.fit_transform(df_transposed)\n",
    "\n",
    "# Create a DataFrame for the first three principal components and add sample names\n",
    "pc_df = pd.DataFrame(principal_components, columns=[\"PC1\", \"PC2\", \"PC3\"])\n",
    "pc_df.insert(0, \"Sample_Name\", sample_names)  # Add sample names as a column\n",
    "\n",
    "# Save the table to a CSV file\n",
    "pc_df.to_csv(\"1st3PCvalues.csv\", index=False)  # Save without the default index\n",
    "\n"
   ]
  },
  {
   "cell_type": "code",
   "execution_count": null,
   "id": "df99f2a7-269b-49c8-b20a-bd7be53f7194",
   "metadata": {},
   "outputs": [],
   "source": [
    "# Create a 3D scatter plot\n",
    "fig = plt.figure(figsize=(10, 7))\n",
    "ax = fig.add_subplot(111, projection='3d')\n",
    "ax.scatter(pc_df[\"PC1\"], pc_df[\"PC2\"], pc_df[\"PC3\"], alpha=0.7, s=50)\n",
    "\n",
    "# Labels and title\n",
    "ax.set_xlabel(\"Principal Component 1\")\n",
    "ax.set_ylabel(\"Principal Component 2\")\n",
    "ax.set_zlabel(\"Principal Component 3\")\n",
    "ax.set_title(\"PCA: First Three Principal Components\")\n",
    "\n",
    "# Show plot\n",
    "plt.show()"
   ]
  }
 ],
 "metadata": {
  "kernelspec": {
   "display_name": "Python 3 (ipykernel)",
   "language": "python",
   "name": "python3"
  },
  "language_info": {
   "codemirror_mode": {
    "name": "ipython",
    "version": 3
   },
   "file_extension": ".py",
   "mimetype": "text/x-python",
   "name": "python",
   "nbconvert_exporter": "python",
   "pygments_lexer": "ipython3",
   "version": "3.12.4"
  }
 },
 "nbformat": 4,
 "nbformat_minor": 5
}
